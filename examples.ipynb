{
 "cells": [
  {
   "cell_type": "code",
   "execution_count": 1,
   "metadata": {},
   "outputs": [
    {
     "name": "stderr",
     "output_type": "stream",
     "text": [
      "┌ Info: Recompiling stale cache file /home/normann/.julia/compiled/v1.2/LRESolve/hQY0m.ji for LRESolve [ee29a0df-cd28-4477-a8c7-b2df1281527b]\n",
      "└ @ Base loading.jl:1240\n"
     ]
    }
   ],
   "source": [
    "using LRESolve\n",
    "using LinearAlgebra\n",
    "using BenchmarkTools"
   ]
  },
  {
   "cell_type": "markdown",
   "metadata": {},
   "source": [
    "# Sims (2001)\n",
    "\n",
    "In all the following sections, I consider the linearized simple RBC model developed in Dejong and Dave's book *Structural Macroeconometrics* 2nd ed. p. 27"
   ]
  },
  {
   "cell_type": "code",
   "execution_count": 2,
   "metadata": {},
   "outputs": [
    {
     "data": {
      "text/plain": [
       "1.0"
      ]
     },
     "execution_count": 2,
     "metadata": {},
     "output_type": "execute_result"
    }
   ],
   "source": [
    "Γ₀ = [ 0. 1. 0. 0.33 -1. -0.33 -1. ; 0. 1.5 0. -0.06 0.5 0.06 -0.08 ; 1. 0. 0. -0.67 0. -0.33 -1. ; 1. -0.77 -0.23 0. 0. 0. 0. ; 0. 0. 0. 0. 0. 1. 0. ; 0. 0. 0. -0.47 -0.53 0. 0. ; 0. 0. 0. 0. 0. 0. 1.]\n",
    "Γ₁ = zeros(7,7)\n",
    "Γ₁[1,6] = 0.33\n",
    "Γ₁[2,2] = 1.5\n",
    "Γ₁[2,5] = 0.5\n",
    "Γ₁[5,3] = 0.06\n",
    "Γ₁[5,6] = 0.94\n",
    "Γ₁[7,7] = 0.9\n",
    "\n",
    "C = zeros(7)\n",
    "\n",
    "Ψ = zeros(7,1)\n",
    "Ψ[7,1] = 1.\n",
    "\n",
    "Π = zeros(7,1)\n",
    "Π[2,1] = 1."
   ]
  },
  {
   "cell_type": "code",
   "execution_count": 3,
   "metadata": {},
   "outputs": [
    {
     "data": {
      "text/plain": [
       "ModelSims([0.0 1.0 … -0.33 -1.0; 0.0 1.5 … 0.06 -0.08; … ; 0.0 0.0 … 0.0 0.0; 0.0 0.0 … 0.0 1.0], [0.0 0.0 … 0.33 0.0; 0.0 1.5 … 0.0 0.0; … ; 0.0 0.0 … 0.0 0.0; 0.0 0.0 … 0.0 0.9], [0.0, 0.0, 0.0, 0.0, 0.0, 0.0, 0.0], [0.0; 0.0; … ; 0.0; 1.0], [0.0; 1.0; … ; 0.0; 0.0])"
      ]
     },
     "execution_count": 3,
     "metadata": {},
     "output_type": "execute_result"
    }
   ],
   "source": [
    "M0 = ModelSims(Γ₀,Γ₁,C,Ψ,Π)"
   ]
  },
  {
   "cell_type": "code",
   "execution_count": 4,
   "metadata": {},
   "outputs": [
    {
     "data": {
      "text/plain": [
       "([0.0, 0.0, 0.0, 0.0, 0.0, 0.0, 0.0], [1.2240299757861992; 0.5931373376949598; … ; -4.1021652063444614e-16; 1.0], [1.4467879103845174e-17 2.7621567106117985e-17 … 0.37933755890654874 1.1016269782075794; 1.7816484208971583e-17 -4.1343644983873385e-17 … 0.5146387165901619 0.5338236039254638; … ; -5.605217849443205e-18 -1.7512168071304799e-16 … 0.9399999999999992 -3.350036493533911e-16; 4.530234343789211e-34 2.827225946090631e-17 … -2.3006691679325895e-17 0.9])"
      ]
     },
     "execution_count": 4,
     "metadata": {},
     "output_type": "execute_result"
    }
   ],
   "source": [
    "Θ, Θ₀, Θ₁ = solve_sims(M0)"
   ]
  },
  {
   "cell_type": "code",
   "execution_count": 5,
   "metadata": {},
   "outputs": [
    {
     "name": "stdout",
     "output_type": "stream",
     "text": [
      "  31.830 μs (156 allocations: 25.98 KiB)\n"
     ]
    },
    {
     "data": {
      "text/plain": [
       "([0.0, 0.0, 0.0, 0.0, 0.0, 0.0, 0.0], [1.2240299757861992; 0.5931373376949598; … ; -4.1021652063444614e-16; 1.0], [1.4467879103845174e-17 2.7621567106117985e-17 … 0.37933755890654874 1.1016269782075794; 1.7816484208971583e-17 -4.1343644983873385e-17 … 0.5146387165901619 0.5338236039254638; … ; -5.605217849443205e-18 -1.7512168071304799e-16 … 0.9399999999999992 -3.350036493533911e-16; 4.530234343789211e-34 2.827225946090631e-17 … -2.3006691679325895e-17 0.9])"
      ]
     },
     "execution_count": 5,
     "metadata": {},
     "output_type": "execute_result"
    }
   ],
   "source": [
    "@btime solve_sims(M0)"
   ]
  },
  {
   "cell_type": "code",
   "execution_count": 6,
   "metadata": {},
   "outputs": [
    {
     "data": {
      "text/plain": [
       "7-element Array{Float64,1}:\n",
       " 0.0\n",
       " 0.0\n",
       " 0.0\n",
       " 0.0\n",
       " 0.0\n",
       " 0.0\n",
       " 0.0"
      ]
     },
     "execution_count": 6,
     "metadata": {},
     "output_type": "execute_result"
    }
   ],
   "source": [
    "Θ"
   ]
  },
  {
   "cell_type": "code",
   "execution_count": 7,
   "metadata": {},
   "outputs": [
    {
     "data": {
      "text/plain": [
       "7×1 Array{Float64,2}:\n",
       "  1.2240299757861992    \n",
       "  0.5931373376949598    \n",
       "  3.336148807656871     \n",
       "  0.3343730981883576    \n",
       " -0.2965195399028826    \n",
       " -4.1021652063444614e-16\n",
       "  1.0                   "
      ]
     },
     "execution_count": 7,
     "metadata": {},
     "output_type": "execute_result"
    }
   ],
   "source": [
    "Θ₀"
   ]
  },
  {
   "cell_type": "code",
   "execution_count": 8,
   "metadata": {},
   "outputs": [
    {
     "data": {
      "text/plain": [
       "7×7 Array{Float64,2}:\n",
       "  1.44679e-17   2.76216e-17   0.0152197    …   0.379338      1.10163    \n",
       "  1.78165e-17  -4.13436e-17   0.0281182        0.514639      0.533824   \n",
       " -2.96857e-18   4.4192e-16   -0.0279621       -0.0736272     3.00253    \n",
       " -6.95286e-18   2.62164e-17  -0.00683619       0.10319       0.300936   \n",
       " -6.61299e-18  -1.09716e-17   0.00606229      -0.0915085    -0.266868   \n",
       " -5.60522e-18  -1.75122e-16   0.06         …   0.94         -3.35004e-16\n",
       "  4.53023e-34   2.82723e-17  -2.01012e-18     -2.30067e-17   0.9        "
      ]
     },
     "execution_count": 8,
     "metadata": {},
     "output_type": "execute_result"
    }
   ],
   "source": [
    "Θ₁"
   ]
  },
  {
   "cell_type": "markdown",
   "metadata": {},
   "source": [
    "# Uhlig (1999)"
   ]
  },
  {
   "cell_type": "code",
   "execution_count": 9,
   "metadata": {},
   "outputs": [
    {
     "data": {
      "text/plain": [
       "6"
      ]
     },
     "execution_count": 9,
     "metadata": {},
     "output_type": "execute_result"
    }
   ],
   "source": [
    "n = size(Γ₀,1)\n",
    "ns = 1\n",
    "m = n-ns"
   ]
  },
  {
   "cell_type": "code",
   "execution_count": 10,
   "metadata": {},
   "outputs": [
    {
     "data": {
      "text/plain": [
       "0.9"
      ]
     },
     "execution_count": 10,
     "metadata": {},
     "output_type": "execute_result"
    }
   ],
   "source": [
    "F = zeros(m,m)\n",
    "G = zeros(m,m)\n",
    "H = zeros(m,m)\n",
    "L = zeros(m,1)\n",
    "M = zeros(m,1)\n",
    "N = zeros(1,1)\n",
    "\n",
    "F[2,:] = -Γ₀[2,1:m]\n",
    "G[2,:] = Γ₁[2,1:m]\n",
    "L[2,1] = -Γ₀[2,n]\n",
    "M[2,1] = Γ₁[2,n]\n",
    "\n",
    "G[[1,3,4,5,6],:] = -Γ₀[[1,3,4,5,6],1:m]\n",
    "H[[1,3,4,5,6],:] = Γ₁[[1,3,4,5,6],1:m]\n",
    "M[[1,3,4,5,6],:] = -Γ₀[[1,3,4,5,6],n]\n",
    "N[1,1] = Γ₁[n,n]"
   ]
  },
  {
   "cell_type": "code",
   "execution_count": 11,
   "metadata": {},
   "outputs": [
    {
     "data": {
      "text/plain": [
       "ModelUhlig([0.0 0.0 … 0.0 0.0; -0.0 -1.5 … -0.5 -0.06; … ; 0.0 0.0 … 0.0 0.0; 0.0 0.0 … 0.0 0.0], [-0.0 -1.0 … 1.0 0.33; 0.0 1.5 … 0.5 0.0; … ; -0.0 -0.0 … -0.0 -1.0; -0.0 -0.0 … 0.53 -0.0], [0.0 0.0 … 0.0 0.33; 0.0 0.0 … 0.0 0.0; … ; 0.0 0.0 … 0.0 0.94; 0.0 0.0 … 0.0 0.0], [0.0; 0.08; … ; 0.0; 0.0], [1.0; 0.0; … ; -0.0; -0.0], [0.9])"
      ]
     },
     "execution_count": 11,
     "metadata": {},
     "output_type": "execute_result"
    }
   ],
   "source": [
    "M1 = ModelUhlig(F,G,H,L,M,N)"
   ]
  },
  {
   "cell_type": "code",
   "execution_count": 12,
   "metadata": {},
   "outputs": [
    {
     "data": {
      "text/plain": [
       "([0.0 0.0 … 0.0 0.3793375589065485; 0.0 0.0 … 0.0 0.5146387165901636; … ; 0.0 0.0 … 0.0 -0.09150845588870084; 0.0 0.0 … 0.0 0.9400000000000001], [1.2240299757861983, 0.5931373376949611, 3.336148807656861, 0.3343730981883557, -0.29651953990288143, -0.0])"
      ]
     },
     "execution_count": 12,
     "metadata": {},
     "output_type": "execute_result"
    }
   ],
   "source": [
    "P,Q = solve_uhlig(M1)"
   ]
  },
  {
   "cell_type": "code",
   "execution_count": 13,
   "metadata": {},
   "outputs": [
    {
     "name": "stdout",
     "output_type": "stream",
     "text": [
      "  29.336 μs (83 allocations: 26.20 KiB)\n"
     ]
    },
    {
     "data": {
      "text/plain": [
       "([0.0 0.0 … 0.0 0.3793375589065485; 0.0 0.0 … 0.0 0.5146387165901636; … ; 0.0 0.0 … 0.0 -0.09150845588870084; 0.0 0.0 … 0.0 0.9400000000000001], [1.2240299757861983, 0.5931373376949611, 3.336148807656861, 0.3343730981883557, -0.29651953990288143, -0.0])"
      ]
     },
     "execution_count": 13,
     "metadata": {},
     "output_type": "execute_result"
    }
   ],
   "source": [
    "@btime solve_uhlig(M1)"
   ]
  },
  {
   "cell_type": "code",
   "execution_count": 14,
   "metadata": {},
   "outputs": [
    {
     "data": {
      "text/plain": [
       "6×6 Array{Float64,2}:\n",
       " 0.0  0.0   0.0152197   0.0  0.0   0.379338 \n",
       " 0.0  0.0   0.0281182   0.0  0.0   0.514639 \n",
       " 0.0  0.0  -0.0279621   0.0  0.0  -0.0736272\n",
       " 0.0  0.0  -0.00683619  0.0  0.0   0.10319  \n",
       " 0.0  0.0   0.00606229  0.0  0.0  -0.0915085\n",
       " 0.0  0.0   0.06        0.0  0.0   0.94     "
      ]
     },
     "execution_count": 14,
     "metadata": {},
     "output_type": "execute_result"
    }
   ],
   "source": [
    "P"
   ]
  },
  {
   "cell_type": "code",
   "execution_count": 15,
   "metadata": {},
   "outputs": [
    {
     "data": {
      "text/plain": [
       "6-element Array{Float64,1}:\n",
       "  1.2240299757861983 \n",
       "  0.5931373376949611 \n",
       "  3.336148807656861  \n",
       "  0.3343730981883557 \n",
       " -0.29651953990288143\n",
       " -0.0                "
      ]
     },
     "execution_count": 15,
     "metadata": {},
     "output_type": "execute_result"
    }
   ],
   "source": [
    "Q"
   ]
  }
 ],
 "metadata": {
  "kernelspec": {
   "display_name": "Julia 1.2.0",
   "language": "julia",
   "name": "julia-1.2"
  },
  "language_info": {
   "file_extension": ".jl",
   "mimetype": "application/julia",
   "name": "julia",
   "version": "1.2.0"
  }
 },
 "nbformat": 4,
 "nbformat_minor": 4
}
